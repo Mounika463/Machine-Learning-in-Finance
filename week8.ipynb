{
 "cells": [
  {
   "cell_type": "code",
   "execution_count": 12,
   "id": "7ac0c126",
   "metadata": {},
   "outputs": [],
   "source": [
    "import numpy as np\n",
    "import pandas as pd\n",
    "import matplotlib.pyplot as plt\n",
    "from sklearn.preprocessing import MinMaxScaler\n",
    "from tensorflow.keras.models import Sequential\n",
    "from tensorflow.keras.layers import Conv1D, Dense, Flatten, MaxPooling1D\n",
    "from tensorflow.keras.metrics import MeanAbsoluteError\n",
    "from tensorflow.keras.optimizers import Adam\n",
    "from sklearn.model_selection import train_test_split\n",
    "from tensorflow.keras.layers import Conv1D, Dense, Flatten, Dropout"
   ]
  },
  {
   "cell_type": "code",
   "execution_count": 3,
   "id": "a097b1fe",
   "metadata": {},
   "outputs": [],
   "source": [
    "ask_data = pd.read_csv('XAGUSD_5 Mins_Ask_2023.01.01_2023.06.30.csv')\n",
    "bid_data = pd.read_csv('XAGUSD_5 Mins_Bid_2023.01.01_2023.06.30.csv')\n"
   ]
  },
  {
   "cell_type": "code",
   "execution_count": 4,
   "id": "80b215f6",
   "metadata": {},
   "outputs": [],
   "source": [
    "ask_data['Time (UTC)'] = pd.to_datetime(ask_data['Time (UTC)'])\n",
    "bid_data['Time (UTC)'] = pd.to_datetime(bid_data['Time (UTC)'])\n",
    "\n",
    "# Step 3: Merge datasets on 'Time (UTC)'\n",
    "merged_data = pd.merge(ask_data, bid_data, on='Time (UTC)', suffixes=('_Ask', '_Bid'))\n",
    "\n",
    "# Step 4: Select relevant columns (High and Low prices)\n",
    "merged_data = merged_data[['Time (UTC)', 'High_Ask', 'Low_Ask', 'High_Bid', 'Low_Bid']]\n"
   ]
  },
  {
   "cell_type": "code",
   "execution_count": 5,
   "id": "52d4dfea",
   "metadata": {},
   "outputs": [],
   "source": [
    "\n",
    "# Step 4: Normalize data\n",
    "scaler = MinMaxScaler()\n",
    "merged_data[['High_Ask', 'Low_Ask', 'High_Bid', 'Low_Bid']] = scaler.fit_transform(\n",
    "    merged_data[['High_Ask', 'Low_Ask', 'High_Bid', 'Low_Bid']]\n",
    ")"
   ]
  },
  {
   "cell_type": "code",
   "execution_count": 6,
   "id": "4f400368",
   "metadata": {},
   "outputs": [],
   "source": [
    "time_steps = 10  # Look-back period (10 minutes)\n",
    "prediction_window = 5  # 5-minute prediction window\n",
    "\n",
    "# Use lists to collect samples incrementally\n",
    "X, y = [], []\n",
    "\n",
    "# Select only the required columns\n",
    "features = merged_data[['High_Ask', 'Low_Ask', 'High_Bid', 'Low_Bid']].values\n",
    "\n"
   ]
  },
  {
   "cell_type": "code",
   "execution_count": 7,
   "id": "622ddea7",
   "metadata": {},
   "outputs": [],
   "source": [
    "for i in range(len(features) - time_steps - prediction_window):\n",
    "    # Extract input sequence for the look-back period\n",
    "    X_sample = features[i:i+time_steps]\n",
    "    # Extract the target as the mean over the prediction window\n",
    "    y_sample = features[i+time_steps:i+time_steps+prediction_window].mean(axis=0)\n",
    "    X.append(X_sample)\n",
    "    y.append(y_sample)\n",
    "\n",
    "# Convert lists to NumPy arrays\n",
    "X = np.array(X, dtype=np.float32)\n",
    "y = np.array(y, dtype=np.float32)\n"
   ]
  },
  {
   "cell_type": "code",
   "execution_count": 10,
   "id": "7a7c4f20",
   "metadata": {},
   "outputs": [],
   "source": [
    "X_train, X_test, y_train, y_test = train_test_split(X, y, test_size=0.2, random_state=42)\n",
    "\n",
    "# Normalize the data\n",
    "scaler = MinMaxScaler()\n",
    "X_train = scaler.fit_transform(X_train.reshape(-1, X_train.shape[-1])).reshape(X_train.shape)\n",
    "X_test = scaler.transform(X_test.reshape(-1, X_test.shape[-1])).reshape(X_test.shape)"
   ]
  },
  {
   "cell_type": "code",
   "execution_count": 13,
   "id": "f2cbb076",
   "metadata": {},
   "outputs": [
    {
     "name": "stderr",
     "output_type": "stream",
     "text": [
      "2024-12-09 14:42:28.324339: I tensorflow/core/platform/cpu_feature_guard.cc:145] This TensorFlow binary is optimized with Intel(R) MKL-DNN to use the following CPU instructions in performance critical operations:  SSE4.1 SSE4.2\n",
      "To enable them in non-MKL-DNN operations, rebuild TensorFlow with the appropriate compiler flags.\n",
      "2024-12-09 14:42:28.324670: I tensorflow/core/common_runtime/process_util.cc:115] Creating new thread pool with default inter op setting: 8. Tune using inter_op_parallelism_threads for best performance.\n"
     ]
    }
   ],
   "source": [
    "model = Sequential([\n",
    "    Conv1D(filters=64, kernel_size=3, activation='relu', input_shape=(time_steps, X.shape[2])),\n",
    "    Dropout(0.2),\n",
    "    Conv1D(filters=32, kernel_size=3, activation='relu'),\n",
    "    Flatten(),\n",
    "    Dense(units=32, activation='relu'),\n",
    "    Dense(units=y.shape[1], activation='linear')  # Output layer\n",
    "])\n"
   ]
  },
  {
   "cell_type": "code",
   "execution_count": 14,
   "id": "d172a018",
   "metadata": {},
   "outputs": [
    {
     "name": "stdout",
     "output_type": "stream",
     "text": [
      "Train on 28164 samples, validate on 7041 samples\n",
      "Epoch 1/50\n",
      "28164/28164 [==============================] - 6s 227us/sample - loss: 0.0046 - mae: 0.0313 - val_loss: 0.0030 - val_mae: 0.0487\n",
      "Epoch 2/50\n",
      "28164/28164 [==============================] - 6s 201us/sample - loss: 4.0274e-04 - mae: 0.0149 - val_loss: 0.0022 - val_mae: 0.0407\n",
      "Epoch 3/50\n",
      "28164/28164 [==============================] - 5s 180us/sample - loss: 2.5441e-04 - mae: 0.0119 - val_loss: 0.0051 - val_mae: 0.0639\n",
      "Epoch 4/50\n",
      "28164/28164 [==============================] - 5s 172us/sample - loss: 1.7813e-04 - mae: 0.0099 - val_loss: 0.0067 - val_mae: 0.0742\n",
      "Epoch 5/50\n",
      "28164/28164 [==============================] - 5s 171us/sample - loss: 1.5021e-04 - mae: 0.0091 - val_loss: 0.0069 - val_mae: 0.0745\n",
      "Epoch 6/50\n",
      "28164/28164 [==============================] - 5s 173us/sample - loss: 1.3222e-04 - mae: 0.0084 - val_loss: 0.0071 - val_mae: 0.0773\n",
      "Epoch 7/50\n",
      "28164/28164 [==============================] - 5s 175us/sample - loss: 1.2194e-04 - mae: 0.0081 - val_loss: 0.0105 - val_mae: 0.0947\n",
      "Epoch 8/50\n",
      "28164/28164 [==============================] - 5s 177us/sample - loss: 1.2315e-04 - mae: 0.0081 - val_loss: 0.0108 - val_mae: 0.0946\n",
      "Epoch 9/50\n",
      "28164/28164 [==============================] - 5s 190us/sample - loss: 1.0921e-04 - mae: 0.0076 - val_loss: 0.0110 - val_mae: 0.0960\n",
      "Epoch 10/50\n",
      "28164/28164 [==============================] - 5s 180us/sample - loss: 1.0619e-04 - mae: 0.0075 - val_loss: 0.0107 - val_mae: 0.0945\n",
      "Epoch 11/50\n",
      "28164/28164 [==============================] - 5s 175us/sample - loss: 1.0803e-04 - mae: 0.0076 - val_loss: 0.0111 - val_mae: 0.0969\n",
      "Epoch 12/50\n",
      "28164/28164 [==============================] - 5s 178us/sample - loss: 9.7909e-05 - mae: 0.0071 - val_loss: 0.0129 - val_mae: 0.1040\n",
      "Epoch 13/50\n",
      "28164/28164 [==============================] - 5s 171us/sample - loss: 1.0424e-04 - mae: 0.0074 - val_loss: 0.0106 - val_mae: 0.0941\n",
      "Epoch 14/50\n",
      "28164/28164 [==============================] - 5s 162us/sample - loss: 1.0218e-04 - mae: 0.0073 - val_loss: 0.0118 - val_mae: 0.0994\n",
      "Epoch 15/50\n",
      "28164/28164 [==============================] - 5s 167us/sample - loss: 9.6175e-05 - mae: 0.0070 - val_loss: 0.0111 - val_mae: 0.0965\n",
      "Epoch 16/50\n",
      "28164/28164 [==============================] - 5s 174us/sample - loss: 9.5146e-05 - mae: 0.0070 - val_loss: 0.0102 - val_mae: 0.0919\n",
      "Epoch 17/50\n",
      "28164/28164 [==============================] - 5s 169us/sample - loss: 9.6167e-05 - mae: 0.0070 - val_loss: 0.0122 - val_mae: 0.1015\n",
      "Epoch 18/50\n",
      "28164/28164 [==============================] - 5s 174us/sample - loss: 9.4208e-05 - mae: 0.0070 - val_loss: 0.0119 - val_mae: 0.0991\n",
      "Epoch 19/50\n",
      "28164/28164 [==============================] - 5s 190us/sample - loss: 1.0322e-04 - mae: 0.0072 - val_loss: 0.0118 - val_mae: 0.0994\n",
      "Epoch 20/50\n",
      "28164/28164 [==============================] - 5s 186us/sample - loss: 9.1380e-05 - mae: 0.0068 - val_loss: 0.0124 - val_mae: 0.1012\n",
      "Epoch 21/50\n",
      "28164/28164 [==============================] - 5s 179us/sample - loss: 9.2174e-05 - mae: 0.0068 - val_loss: 0.0117 - val_mae: 0.0982\n",
      "Epoch 22/50\n",
      "28164/28164 [==============================] - 5s 180us/sample - loss: 8.6546e-05 - mae: 0.0066 - val_loss: 0.0112 - val_mae: 0.0960\n",
      "Epoch 23/50\n",
      "28164/28164 [==============================] - 5s 172us/sample - loss: 8.4758e-05 - mae: 0.0065 - val_loss: 0.0121 - val_mae: 0.0999\n",
      "Epoch 24/50\n",
      "28164/28164 [==============================] - 5s 179us/sample - loss: 8.8767e-05 - mae: 0.0067 - val_loss: 0.0110 - val_mae: 0.0953\n",
      "Epoch 25/50\n",
      "28164/28164 [==============================] - 5s 190us/sample - loss: 8.6816e-05 - mae: 0.0066 - val_loss: 0.0117 - val_mae: 0.0983\n",
      "Epoch 26/50\n",
      "28164/28164 [==============================] - 5s 179us/sample - loss: 8.7035e-05 - mae: 0.0066 - val_loss: 0.0094 - val_mae: 0.0880\n",
      "Epoch 27/50\n",
      "28164/28164 [==============================] - 5s 182us/sample - loss: 8.3350e-05 - mae: 0.0064 - val_loss: 0.0122 - val_mae: 0.1002\n",
      "Epoch 28/50\n",
      "28164/28164 [==============================] - 5s 186us/sample - loss: 8.4232e-05 - mae: 0.0065 - val_loss: 0.0105 - val_mae: 0.0931\n",
      "Epoch 29/50\n",
      "28164/28164 [==============================] - 5s 183us/sample - loss: 8.0538e-05 - mae: 0.0063 - val_loss: 0.0089 - val_mae: 0.0850\n",
      "Epoch 30/50\n",
      "28164/28164 [==============================] - 5s 178us/sample - loss: 8.6929e-05 - mae: 0.0066 - val_loss: 0.0108 - val_mae: 0.0939\n",
      "Epoch 31/50\n",
      "28164/28164 [==============================] - 5s 175us/sample - loss: 8.1485e-05 - mae: 0.0063 - val_loss: 0.0102 - val_mae: 0.0916\n",
      "Epoch 32/50\n",
      "28164/28164 [==============================] - 5s 178us/sample - loss: 8.3017e-05 - mae: 0.0065 - val_loss: 0.0116 - val_mae: 0.0973\n",
      "Epoch 33/50\n",
      "28164/28164 [==============================] - 5s 176us/sample - loss: 8.0029e-05 - mae: 0.0064 - val_loss: 0.0110 - val_mae: 0.0954\n",
      "Epoch 34/50\n",
      "28164/28164 [==============================] - 5s 178us/sample - loss: 7.9263e-05 - mae: 0.0062 - val_loss: 0.0115 - val_mae: 0.0978\n",
      "Epoch 35/50\n",
      "28164/28164 [==============================] - 5s 182us/sample - loss: 7.5934e-05 - mae: 0.0062 - val_loss: 0.0103 - val_mae: 0.0922\n",
      "Epoch 36/50\n",
      "28164/28164 [==============================] - 5s 181us/sample - loss: 7.8517e-05 - mae: 0.0062 - val_loss: 0.0102 - val_mae: 0.0916\n",
      "Epoch 37/50\n",
      "28164/28164 [==============================] - 5s 176us/sample - loss: 7.8939e-05 - mae: 0.0062 - val_loss: 0.0112 - val_mae: 0.0961\n",
      "Epoch 38/50\n",
      "28164/28164 [==============================] - 5s 182us/sample - loss: 7.5964e-05 - mae: 0.0062 - val_loss: 0.0109 - val_mae: 0.0950\n",
      "Epoch 39/50\n",
      "28164/28164 [==============================] - 5s 177us/sample - loss: 7.3845e-05 - mae: 0.0060 - val_loss: 0.0096 - val_mae: 0.0885\n",
      "Epoch 40/50\n",
      "28164/28164 [==============================] - 5s 189us/sample - loss: 7.4757e-05 - mae: 0.0061 - val_loss: 0.0117 - val_mae: 0.0985\n",
      "Epoch 41/50\n",
      "28164/28164 [==============================] - 5s 182us/sample - loss: 6.9751e-05 - mae: 0.0059 - val_loss: 0.0118 - val_mae: 0.0987\n",
      "Epoch 42/50\n",
      "28164/28164 [==============================] - 5s 183us/sample - loss: 7.1591e-05 - mae: 0.0060 - val_loss: 0.0104 - val_mae: 0.0925\n",
      "Epoch 43/50\n",
      "28164/28164 [==============================] - 5s 181us/sample - loss: 6.9691e-05 - mae: 0.0059 - val_loss: 0.0092 - val_mae: 0.0869\n",
      "Epoch 44/50\n",
      "28164/28164 [==============================] - 5s 181us/sample - loss: 7.3019e-05 - mae: 0.0061 - val_loss: 0.0103 - val_mae: 0.0922\n",
      "Epoch 45/50\n",
      "28164/28164 [==============================] - 5s 175us/sample - loss: 7.0727e-05 - mae: 0.0060 - val_loss: 0.0114 - val_mae: 0.0972\n",
      "Epoch 46/50\n",
      "28164/28164 [==============================] - 5s 178us/sample - loss: 6.7359e-05 - mae: 0.0058 - val_loss: 0.0104 - val_mae: 0.0928\n",
      "Epoch 47/50\n",
      "28164/28164 [==============================] - 5s 184us/sample - loss: 6.9697e-05 - mae: 0.0059 - val_loss: 0.0116 - val_mae: 0.0981\n",
      "Epoch 48/50\n",
      "28164/28164 [==============================] - 6s 196us/sample - loss: 6.9447e-05 - mae: 0.0059 - val_loss: 0.0117 - val_mae: 0.0983\n",
      "Epoch 49/50\n",
      "28164/28164 [==============================] - 5s 184us/sample - loss: 6.7321e-05 - mae: 0.0058 - val_loss: 0.0100 - val_mae: 0.0914\n",
      "Epoch 50/50\n",
      "28164/28164 [==============================] - 5s 191us/sample - loss: 6.8277e-05 - mae: 0.0059 - val_loss: 0.0111 - val_mae: 0.0959\n"
     ]
    }
   ],
   "source": [
    "model.compile(optimizer=Adam(learning_rate=0.001), loss='mean_squared_error', metrics=['mae'])\n",
    "\n",
    "# Train the model\n",
    "history = model.fit(X_train, y_train, validation_data=(X_test, y_test), epochs=50, batch_size=32, verbose=1)\n"
   ]
  },
  {
   "cell_type": "code",
   "execution_count": 15,
   "id": "eb2cedf8",
   "metadata": {},
   "outputs": [
    {
     "data": {
      "image/png": "[encoded data removed]",
      "text/plain": [
       "<Figure size 640x480 with 1 Axes>"
      ]
     },
     "metadata": {},
     "output_type": "display_data"
    }
   ],
   "source": [
    "plt.plot(history.history['mae'], label='Training MAE')\n",
    "plt.plot(history.history['val_mae'], label='Validation MAE')\n",
    "plt.title('Model MAE')\n",
    "plt.xlabel('Epochs')\n",
    "plt.ylabel('Mean Absolute Error')\n",
    "plt.legend()\n",
    "plt.grid()\n",
    "plt.show()\n"
   ]
  },
  {
   "cell_type": "code",
   "execution_count": null,
   "id": "640f5235",
   "metadata": {},
   "outputs": [],
   "source": []
  }
 ],
 "metadata": {
  "kernelspec": {
   "display_name": "Python 3 (ipykernel)",
   "language": "python",
   "name": "python3"
  },
  "language_info": {
   "codemirror_mode": {
    "name": "ipython",
    "version": 3
   },
   "file_extension": ".py",
   "mimetype": "text/x-python",
   "name": "python",
   "nbconvert_exporter": "python",
   "pygments_lexer": "ipython3",
   "version": "3.7.16"
  }
 },
 "nbformat": 4,
 "nbformat_minor": 5
}
